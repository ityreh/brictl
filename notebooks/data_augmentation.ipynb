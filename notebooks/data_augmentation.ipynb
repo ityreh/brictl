{
 "cells": [
  {
   "cell_type": "markdown",
   "metadata": {},
   "source": [
    "# Data Augmentation\n",
    "\n",
    "If you need many images to train a model for image recognition, you can use data augmentation to generate multiple images out of one."
   ]
  },
  {
   "cell_type": "markdown",
   "metadata": {},
   "source": [
    "## Installation\n",
    "\n",
    "We use [albumentations](https://github.com/albumentations-team/albumentations) for data augmentation."
   ]
  },
  {
   "cell_type": "code",
   "execution_count": 1,
   "metadata": {},
   "outputs": [
    {
     "name": "stdout",
     "output_type": "stream",
     "text": [
      "/home/main/.local/lib/python3.9/site-packages/secretstorage/dhcrypto.py:16: CryptographyDeprecationWarning: int_from_bytes is deprecated, use int.from_bytes instead\n",
      "  from cryptography.utils import int_from_bytes\n",
      "/home/main/.local/lib/python3.9/site-packages/secretstorage/util.py:25: CryptographyDeprecationWarning: int_from_bytes is deprecated, use int.from_bytes instead\n",
      "  from cryptography.utils import int_from_bytes\n",
      "Defaulting to user installation because normal site-packages is not writeable\n",
      "Requirement already satisfied: albumentations in /home/main/.local/lib/python3.9/site-packages (0.5.2)\n",
      "Requirement already satisfied: opencv-python-headless>=4.1.1 in /home/main/.local/lib/python3.9/site-packages (from albumentations) (4.4.0.46)\n",
      "Requirement already satisfied: scipy in /home/main/.local/lib/python3.9/site-packages (from albumentations) (1.5.4)\n",
      "Requirement already satisfied: PyYAML in /usr/lib/python3.9/site-packages (from albumentations) (5.4.1)\n",
      "Requirement already satisfied: imgaug>=0.4.0 in /home/main/.local/lib/python3.9/site-packages (from albumentations) (0.4.0)\n",
      "Requirement already satisfied: scikit-image>=0.16.1 in /home/main/.local/lib/python3.9/site-packages (from albumentations) (0.17.2)\n",
      "Requirement already satisfied: numpy>=1.11.1 in /home/main/.local/lib/python3.9/site-packages (from albumentations) (1.19.4)\n",
      "Requirement already satisfied: Pillow in /home/main/.local/lib/python3.9/site-packages (from imgaug>=0.4.0->albumentations) (8.0.1)\n",
      "Requirement already satisfied: six in /usr/lib/python3.9/site-packages (from imgaug>=0.4.0->albumentations) (1.16.0)\n",
      "Requirement already satisfied: imageio in /home/main/.local/lib/python3.9/site-packages (from imgaug>=0.4.0->albumentations) (2.9.0)\n",
      "Requirement already satisfied: opencv-python in /home/main/.local/lib/python3.9/site-packages (from imgaug>=0.4.0->albumentations) (4.4.0.46)\n",
      "Requirement already satisfied: Shapely in /home/main/.local/lib/python3.9/site-packages (from imgaug>=0.4.0->albumentations) (1.7.1)\n",
      "Requirement already satisfied: matplotlib in /home/main/.local/lib/python3.9/site-packages (from imgaug>=0.4.0->albumentations) (3.3.3)\n",
      "Requirement already satisfied: networkx>=2.0 in /home/main/.local/lib/python3.9/site-packages (from scikit-image>=0.16.1->albumentations) (2.5)\n",
      "Requirement already satisfied: tifffile>=2019.7.26 in /home/main/.local/lib/python3.9/site-packages (from scikit-image>=0.16.1->albumentations) (2020.11.26)\n",
      "Requirement already satisfied: PyWavelets>=1.1.1 in /home/main/.local/lib/python3.9/site-packages (from scikit-image>=0.16.1->albumentations) (1.1.1)\n",
      "Requirement already satisfied: kiwisolver>=1.0.1 in /home/main/.local/lib/python3.9/site-packages (from matplotlib->imgaug>=0.4.0->albumentations) (1.3.1)\n",
      "Requirement already satisfied: python-dateutil>=2.1 in /usr/lib/python3.9/site-packages (from matplotlib->imgaug>=0.4.0->albumentations) (2.8.2)\n",
      "Requirement already satisfied: pyparsing!=2.0.4,!=2.1.2,!=2.1.6,>=2.0.3 in /usr/lib/python3.9/site-packages (from matplotlib->imgaug>=0.4.0->albumentations) (2.4.7)\n",
      "Requirement already satisfied: cycler>=0.10 in /home/main/.local/lib/python3.9/site-packages (from matplotlib->imgaug>=0.4.0->albumentations) (0.10.0)\n",
      "Requirement already satisfied: decorator>=4.3.0 in /home/main/.local/lib/python3.9/site-packages (from networkx>=2.0->scikit-image>=0.16.1->albumentations) (4.4.2)\n"
     ]
    }
   ],
   "source": [
    "!pip install albumentations"
   ]
  }
 ],
 "metadata": {
  "interpreter": {
   "hash": "e7370f93d1d0cde622a1f8e1c04877d8463912d04d973331ad4851f04de6915a"
  },
  "kernelspec": {
   "display_name": "Python 3.9.9 64-bit",
   "language": "python",
   "name": "python3"
  },
  "language_info": {
   "codemirror_mode": {
    "name": "ipython",
    "version": 3
   },
   "file_extension": ".py",
   "mimetype": "text/x-python",
   "name": "python",
   "nbconvert_exporter": "python",
   "pygments_lexer": "ipython3",
   "version": "3.9.9"
  },
  "orig_nbformat": 4
 },
 "nbformat": 4,
 "nbformat_minor": 2
}
